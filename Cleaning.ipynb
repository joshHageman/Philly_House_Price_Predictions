{
 "cells": [
  {
   "cell_type": "code",
   "execution_count": 21,
   "metadata": {},
   "outputs": [
    {
     "name": "stdout",
     "output_type": "stream",
     "text": [
      "   Unnamed: 0             list_date  address.lat  address.lon  lot_size.size  \\\n",
      "0           0  2021-03-05T17:49:21Z    39.926237   -75.176307          700.0   \n",
      "1           1  2021-02-17T20:47:19Z    40.069313   -75.075879         3171.0   \n",
      "2           2  2021-02-05T19:01:14Z    40.001261   -75.117655          602.0   \n",
      "3           3  2021-01-26T16:59:31Z    39.987430   -75.100497          909.0   \n",
      "4           4  2020-11-20T16:02:24Z    39.937969   -75.179954         1044.0   \n",
      "\n",
      "  prop_type  year_built  beds     price  baths_full  baths_half  \\\n",
      "0     condo      1920.0   3.0  160000.0         1.0         0.0   \n",
      "1     condo      1957.0   3.0  265000.0         1.0         1.0   \n",
      "2     condo      1920.0   2.0   25000.0         1.0         0.0   \n",
      "3     condo      1920.0   3.0  265000.0         1.0         1.0   \n",
      "4     condo      2020.0   3.0  742500.0         3.0         1.0   \n",
      "\n",
      "   is_new_construction  address.postal_code  \\\n",
      "0                False                19145   \n",
      "1                False                19111   \n",
      "2                False                19134   \n",
      "3                False                19134   \n",
      "4                 True                19146   \n",
      "\n",
      "              address.neighborhood_name  building_size.size  garage  Zip Code  \\\n",
      "0  South Philadelphia - Philadelphia,PA               984.0     0.0     19145   \n",
      "1           Fox Chase - Philadelphia,PA              1054.0     1.0     19111   \n",
      "2          Kensington - Philadelphia,PA               728.0     0.0     19134   \n",
      "3            Richmond - Philadelphia,PA              1196.0     0.0     19134   \n",
      "4        Point Breeze - Philadelphia,PA              3096.0     0.0     19146   \n",
      "\n",
      "   Population  % Unemployment Rate  Avg. Income/H/hold  \n",
      "0       45647               0.1135               26655  \n",
      "1       58874               0.0576               37996  \n",
      "2       57922               0.1682               20903  \n",
      "3       57922               0.1682               20903  \n",
      "4       35783               0.1274               24803  \n",
      "Index(['Unnamed: 0', 'list_date', 'address.lat', 'address.lon',\n",
      "       'lot_size.size', 'prop_type', 'year_built', 'beds', 'price',\n",
      "       'baths_full', 'baths_half', 'is_new_construction',\n",
      "       'address.postal_code', 'address.neighborhood_name',\n",
      "       'building_size.size', 'garage', 'Zip Code', 'Population',\n",
      "       '% Unemployment Rate', 'Avg. Income/H/hold'],\n",
      "      dtype='object')\n"
     ]
    }
   ],
   "source": [
    "import pandas as pd\n",
    "\n",
    "\n",
    "df = pd.read_csv('reduced_housing_data_noland_or_mfh.csv')\n",
    "\n",
    "print(df.head())\n",
    "print(df.columns)"
   ]
  },
  {
   "cell_type": "code",
   "execution_count": 22,
   "metadata": {},
   "outputs": [
    {
     "name": "stdout",
     "output_type": "stream",
     "text": [
      "   Unnamed: 0             list_date  address.lat  address.lon  lot_size.size  \\\n",
      "0           0  2021-03-05T17:49:21Z    39.926237   -75.176307          700.0   \n",
      "1           1  2021-02-17T20:47:19Z    40.069313   -75.075879         3171.0   \n",
      "2           2  2021-02-05T19:01:14Z    40.001261   -75.117655          602.0   \n",
      "3           3  2021-01-26T16:59:31Z    39.987430   -75.100497          909.0   \n",
      "4           4  2020-11-20T16:02:24Z    39.937969   -75.179954         1044.0   \n",
      "\n",
      "  prop_type  year_built  beds     price  baths_full  baths_half  \\\n",
      "0     condo      1920.0   3.0  160000.0         1.0         0.0   \n",
      "1     condo      1957.0   3.0  265000.0         1.0         1.0   \n",
      "2     condo      1920.0   2.0   25000.0         1.0         0.0   \n",
      "3     condo      1920.0   3.0  265000.0         1.0         1.0   \n",
      "4     condo      2020.0   3.0  742500.0         3.0         1.0   \n",
      "\n",
      "   is_new_construction  address.postal_code  \\\n",
      "0                    0                19145   \n",
      "1                    0                19111   \n",
      "2                    0                19134   \n",
      "3                    0                19134   \n",
      "4                    1                19146   \n",
      "\n",
      "              address.neighborhood_name  building_size.size  garage  Zip Code  \\\n",
      "0  South Philadelphia - Philadelphia,PA               984.0     0.0     19145   \n",
      "1           Fox Chase - Philadelphia,PA              1054.0     1.0     19111   \n",
      "2          Kensington - Philadelphia,PA               728.0     0.0     19134   \n",
      "3            Richmond - Philadelphia,PA              1196.0     0.0     19134   \n",
      "4        Point Breeze - Philadelphia,PA              3096.0     0.0     19146   \n",
      "\n",
      "   Population  % Unemployment Rate  Avg. Income/H/hold  \n",
      "0       45647               0.1135               26655  \n",
      "1       58874               0.0576               37996  \n",
      "2       57922               0.1682               20903  \n",
      "3       57922               0.1682               20903  \n",
      "4       35783               0.1274               24803  \n"
     ]
    }
   ],
   "source": [
    "from sklearn.preprocessing import LabelEncoder\n",
    "from sklearn.preprocessing import OneHotEncoder\n",
    "\n",
    "# label encode new_construction feature\n",
    "labelencoder = LabelEncoder()\n",
    "df['is_new_construction'] = labelencoder.fit_transform(df['is_new_construction'])\n",
    "pd.set_option('display.max_rows', df.shape[0]+1)\n",
    "print(df.head())"
   ]
  },
  {
   "cell_type": "code",
   "execution_count": 23,
   "metadata": {},
   "outputs": [
    {
     "data": {
      "text/plain": [
       "Unnamed: 0                      0\n",
       "list_date                    1668\n",
       "address.lat                   700\n",
       "address.lon                   700\n",
       "lot_size.size                 737\n",
       "prop_type                      10\n",
       "year_built                    281\n",
       "beds                          982\n",
       "price                           1\n",
       "baths_full                    949\n",
       "baths_half                      0\n",
       "is_new_construction             0\n",
       "address.postal_code             0\n",
       "address.neighborhood_name     704\n",
       "building_size.size             48\n",
       "garage                          0\n",
       "Zip Code                        0\n",
       "Population                      0\n",
       "% Unemployment Rate             0\n",
       "Avg. Income/H/hold              0\n",
       "dtype: int64"
      ]
     },
     "execution_count": 23,
     "metadata": {},
     "output_type": "execute_result"
    }
   ],
   "source": [
    "df.isnull().sum()"
   ]
  },
  {
   "cell_type": "code",
   "execution_count": 24,
   "metadata": {
    "scrolled": true
   },
   "outputs": [
    {
     "name": "stdout",
     "output_type": "stream",
     "text": [
      "Unnamed: 0                   0.000000\n",
      "list_date                    0.124293\n",
      "address.lat                  0.000000\n",
      "address.lon                  0.000000\n",
      "lot_size.size                0.087163\n",
      "prop_type                    0.000000\n",
      "year_built                   0.032601\n",
      "beds                         0.017885\n",
      "price                        0.000000\n",
      "baths_full                   0.000000\n",
      "baths_half                   0.000000\n",
      "is_new_construction          0.000000\n",
      "address.postal_code          0.000000\n",
      "address.neighborhood_name    0.000679\n",
      "building_size.size           0.009509\n",
      "garage                       0.000000\n",
      "Zip Code                     0.000000\n",
      "Population                   0.000000\n",
      "% Unemployment Rate          0.000000\n",
      "Avg. Income/H/hold           0.000000\n",
      "dtype: float64\n",
      "Unnamed: 0                     0\n",
      "list_date                    549\n",
      "address.lat                    0\n",
      "address.lon                    0\n",
      "lot_size.size                385\n",
      "prop_type                      0\n",
      "year_built                   144\n",
      "beds                          79\n",
      "price                          0\n",
      "baths_full                     0\n",
      "baths_half                     0\n",
      "is_new_construction            0\n",
      "address.postal_code            0\n",
      "address.neighborhood_name      3\n",
      "building_size.size            42\n",
      "garage                         0\n",
      "Zip Code                       0\n",
      "Population                     0\n",
      "% Unemployment Rate            0\n",
      "Avg. Income/H/hold             0\n",
      "dtype: int64\n",
      "<class 'pandas.core.frame.DataFrame'>\n",
      "Int64Index: 4417 entries, 0 to 5824\n",
      "Data columns (total 20 columns):\n",
      " #   Column                     Non-Null Count  Dtype  \n",
      "---  ------                     --------------  -----  \n",
      " 0   Unnamed: 0                 4417 non-null   int64  \n",
      " 1   list_date                  3868 non-null   object \n",
      " 2   address.lat                4417 non-null   float64\n",
      " 3   address.lon                4417 non-null   float64\n",
      " 4   lot_size.size              4032 non-null   float64\n",
      " 5   prop_type                  4417 non-null   object \n",
      " 6   year_built                 4273 non-null   float64\n",
      " 7   beds                       4338 non-null   float64\n",
      " 8   price                      4417 non-null   float64\n",
      " 9   baths_full                 4417 non-null   float64\n",
      " 10  baths_half                 4417 non-null   float64\n",
      " 11  is_new_construction        4417 non-null   int64  \n",
      " 12  address.postal_code        4417 non-null   int64  \n",
      " 13  address.neighborhood_name  4414 non-null   object \n",
      " 14  building_size.size         4375 non-null   float64\n",
      " 15  garage                     4417 non-null   float64\n",
      " 16  Zip Code                   4417 non-null   int64  \n",
      " 17  Population                 4417 non-null   int64  \n",
      " 18  % Unemployment Rate        4417 non-null   float64\n",
      " 19  Avg. Income/H/hold         4417 non-null   int64  \n",
      "dtypes: float64(11), int64(6), object(3)\n",
      "memory usage: 724.7+ KB\n"
     ]
    }
   ],
   "source": [
    "# drop incomplete records\n",
    "df.dropna(subset=['price', 'baths_full', 'address.lat', 'address.lon', 'prop_type'], inplace=True)\n",
    "print(df.isnull().sum()/df.shape[0])\n",
    "print(df.isnull().sum())\n",
    "df.info()"
   ]
  },
  {
   "cell_type": "code",
   "execution_count": 25,
   "metadata": {},
   "outputs": [
    {
     "name": "stdout",
     "output_type": "stream",
     "text": [
      "<class 'pandas.core.frame.DataFrame'>\n",
      "Int64Index: 4417 entries, 0 to 5824\n",
      "Data columns (total 20 columns):\n",
      " #   Column                     Non-Null Count  Dtype  \n",
      "---  ------                     --------------  -----  \n",
      " 0   Unnamed: 0                 4417 non-null   int64  \n",
      " 1   list_date                  3868 non-null   object \n",
      " 2   address.lat                4417 non-null   float64\n",
      " 3   address.lon                4417 non-null   float64\n",
      " 4   lot_size.size              4032 non-null   float64\n",
      " 5   prop_type                  4417 non-null   object \n",
      " 6   year_built                 4273 non-null   float64\n",
      " 7   beds                       4338 non-null   float64\n",
      " 8   price                      4417 non-null   float64\n",
      " 9   baths_full                 4417 non-null   float64\n",
      " 10  baths_half                 4417 non-null   float64\n",
      " 11  is_new_construction        4417 non-null   int64  \n",
      " 12  address.postal_code        4417 non-null   int64  \n",
      " 13  address.neighborhood_name  4417 non-null   object \n",
      " 14  building_size.size         4375 non-null   float64\n",
      " 15  garage                     4417 non-null   float64\n",
      " 16  Zip Code                   4417 non-null   int64  \n",
      " 17  Population                 4417 non-null   int64  \n",
      " 18  % Unemployment Rate        4417 non-null   float64\n",
      " 19  Avg. Income/H/hold         4417 non-null   int64  \n",
      "dtypes: float64(11), int64(6), object(3)\n",
      "memory usage: 724.7+ KB\n",
      "Unnamed: 0                     0\n",
      "list_date                    549\n",
      "address.lat                    0\n",
      "address.lon                    0\n",
      "lot_size.size                385\n",
      "prop_type                      0\n",
      "year_built                   144\n",
      "beds                          79\n",
      "price                          0\n",
      "baths_full                     0\n",
      "baths_half                     0\n",
      "is_new_construction            0\n",
      "address.postal_code            0\n",
      "address.neighborhood_name      0\n",
      "building_size.size            42\n",
      "garage                         0\n",
      "Zip Code                       0\n",
      "Population                     0\n",
      "% Unemployment Rate            0\n",
      "Avg. Income/H/hold             0\n",
      "dtype: int64\n"
     ]
    }
   ],
   "source": [
    "# fill missing neighborhood values\n",
    "filling_val_neighborhood = \"Generic Neighborhood\"\n",
    "df['address.neighborhood_name']=df['address.neighborhood_name'].fillna(filling_val_neighborhood)\n",
    "df['address.neighborhood_name']=df['address.neighborhood_name'].astype('str')\n",
    "df.info()\n",
    "print(df.isnull().sum())"
   ]
  },
  {
   "cell_type": "code",
   "execution_count": 26,
   "metadata": {},
   "outputs": [
    {
     "name": "stdout",
     "output_type": "stream",
     "text": [
      "median beds = 3.0\n",
      "median year_built = 1930.0\n",
      "median building_size = 1350.0\n",
      "median building_size = 1344.0\n",
      "   Unnamed: 0  list_date  address.lat  address.lon  lot_size.size prop_type  \\\n",
      "0           0     737854    39.926237   -75.176307          700.0     condo   \n",
      "1           1     737838    40.069313   -75.075879         3171.0     condo   \n",
      "2           2     737826    40.001261   -75.117655          602.0     condo   \n",
      "3           3     737816    39.987430   -75.100497          909.0     condo   \n",
      "4           4     737749    39.937969   -75.179954         1044.0     condo   \n",
      "\n",
      "   year_built  beds     price  baths_full  baths_half  is_new_construction  \\\n",
      "0      1920.0   3.0  160000.0         1.0         0.0                    0   \n",
      "1      1957.0   3.0  265000.0         1.0         1.0                    0   \n",
      "2      1920.0   2.0   25000.0         1.0         0.0                    0   \n",
      "3      1920.0   3.0  265000.0         1.0         1.0                    0   \n",
      "4      2020.0   3.0  742500.0         3.0         1.0                    1   \n",
      "\n",
      "   address.postal_code             address.neighborhood_name  \\\n",
      "0                19145  South Philadelphia - Philadelphia,PA   \n",
      "1                19111           Fox Chase - Philadelphia,PA   \n",
      "2                19134          Kensington - Philadelphia,PA   \n",
      "3                19134            Richmond - Philadelphia,PA   \n",
      "4                19146        Point Breeze - Philadelphia,PA   \n",
      "\n",
      "   building_size.size  garage  Zip Code  Population  % Unemployment Rate  \\\n",
      "0               984.0     0.0     19145       45647               0.1135   \n",
      "1              1054.0     1.0     19111       58874               0.0576   \n",
      "2               728.0     0.0     19134       57922               0.1682   \n",
      "3              1196.0     0.0     19134       57922               0.1682   \n",
      "4              3096.0     0.0     19146       35783               0.1274   \n",
      "\n",
      "   Avg. Income/H/hold  \n",
      "0               26655  \n",
      "1               37996  \n",
      "2               20903  \n",
      "3               20903  \n",
      "4               24803  \n",
      "<class 'pandas.core.frame.DataFrame'>\n",
      "Int64Index: 4417 entries, 0 to 5824\n",
      "Data columns (total 20 columns):\n",
      " #   Column                     Non-Null Count  Dtype  \n",
      "---  ------                     --------------  -----  \n",
      " 0   Unnamed: 0                 4417 non-null   int64  \n",
      " 1   list_date                  4417 non-null   int64  \n",
      " 2   address.lat                4417 non-null   float64\n",
      " 3   address.lon                4417 non-null   float64\n",
      " 4   lot_size.size              4417 non-null   float64\n",
      " 5   prop_type                  4417 non-null   object \n",
      " 6   year_built                 4417 non-null   float64\n",
      " 7   beds                       4417 non-null   float64\n",
      " 8   price                      4417 non-null   float64\n",
      " 9   baths_full                 4417 non-null   float64\n",
      " 10  baths_half                 4417 non-null   float64\n",
      " 11  is_new_construction        4417 non-null   int64  \n",
      " 12  address.postal_code        4417 non-null   int64  \n",
      " 13  address.neighborhood_name  4417 non-null   object \n",
      " 14  building_size.size         4417 non-null   float64\n",
      " 15  garage                     4417 non-null   float64\n",
      " 16  Zip Code                   4417 non-null   int64  \n",
      " 17  Population                 4417 non-null   int64  \n",
      " 18  % Unemployment Rate        4417 non-null   float64\n",
      " 19  Avg. Income/H/hold         4417 non-null   int64  \n",
      "dtypes: float64(11), int64(7), object(2)\n",
      "memory usage: 724.7+ KB\n",
      "None\n",
      "Unnamed: 0                   0\n",
      "list_date                    0\n",
      "address.lat                  0\n",
      "address.lon                  0\n",
      "lot_size.size                0\n",
      "prop_type                    0\n",
      "year_built                   0\n",
      "beds                         0\n",
      "price                        0\n",
      "baths_full                   0\n",
      "baths_half                   0\n",
      "is_new_construction          0\n",
      "address.postal_code          0\n",
      "address.neighborhood_name    0\n",
      "building_size.size           0\n",
      "garage                       0\n",
      "Zip Code                     0\n",
      "Population                   0\n",
      "% Unemployment Rate          0\n",
      "Avg. Income/H/hold           0\n",
      "dtype: int64\n"
     ]
    }
   ],
   "source": [
    "# Fill missing year_built, beds, and building_size data using median values, lat, long, prop type, lot size\n",
    "import datetime as dt\n",
    "median_beds = df['beds'].median()\n",
    "median_year_built = df['year_built'].median()\n",
    "median_building_size = df['building_size.size'].median()\n",
    "median_lot_size = df['lot_size.size'].median()\n",
    "\n",
    "print(\"median beds = {}\".format(median_beds))\n",
    "print(\"median year_built = {}\".format(median_year_built))\n",
    "print(\"median building_size = {}\".format(median_building_size))\n",
    "print(\"median building_size = {}\".format(median_lot_size))\n",
    "\n",
    "df['beds'] = df['beds'].fillna(median_beds)\n",
    "df['year_built'] = df['year_built'].fillna(median_year_built)\n",
    "df['building_size.size'] = df['building_size.size'].fillna(median_building_size)\n",
    "df['lot_size.size'] = df['lot_size.size'].fillna(median_lot_size)\n",
    "\n",
    "df['list_date'] = pd.to_datetime(df['list_date'])\n",
    "df['list_date']=df['list_date'].map(dt.datetime.toordinal)\n",
    "print(df.head())\n",
    "print(df.info())\n",
    "print(df.isnull().sum())"
   ]
  },
  {
   "cell_type": "code",
   "execution_count": 27,
   "metadata": {},
   "outputs": [],
   "source": [
    "df = df.drop('address.postal_code', axis=1)\n",
    "df.to_csv('preprocessed_data.csv')"
   ]
  },
  {
   "cell_type": "code",
   "execution_count": 27,
   "metadata": {},
   "outputs": [],
   "source": [
    "# OHE data\n",
    "prop_type_df = pd.get_dummies(merged_left['prop_type'], prefix='prop_type')\n",
    "\n",
    "\n",
    "zip_df = pd.get_dummies(merged_left['address.postal_code'], prefix='zip')\n",
    "\n",
    "\n",
    "neighborhood_df = pd.get_dummies(merged_left['address.neighborhood_name'], prefix='neighborhood')\n",
    "\n",
    "#encoded df\n",
    "enc_df = pd.concat([merged_left, prop_type_df, zip_df, neighborhood_df], axis=1)\n"
   ]
  },
  {
   "cell_type": "code",
   "execution_count": 31,
   "metadata": {},
   "outputs": [
    {
     "name": "stdout",
     "output_type": "stream",
     "text": [
      "   Unnamed: 0           last_update  year_built  beds     price  baths_full  \\\n",
      "0           0  2021-03-21T08:42:53Z      1925.0   3.0  247500.0         2.0   \n",
      "1           1  2021-03-20T10:38:16Z      1920.0   3.0  210000.0         1.0   \n",
      "2           2  2021-03-20T11:44:06Z      1970.0   3.0  229000.0         2.0   \n",
      "3           3  2021-03-20T16:00:12Z      1925.0   2.0  691000.0         1.0   \n",
      "4           4  2021-03-21T15:14:52Z      1915.0   3.0  120000.0         1.0   \n",
      "\n",
      "   baths_half  is_new_construction  building_size.size  garage  ...  \\\n",
      "0         0.0                    0              2100.0       0  ...   \n",
      "1         1.0                    0              1200.0       0  ...   \n",
      "2         1.0                    0              1566.0       0  ...   \n",
      "3         1.0                    0              2000.0       1  ...   \n",
      "4         1.0                    0              1104.0       0  ...   \n",
      "\n",
      "   neighborhood_West Oak Lane - Philadelphia,PA  \\\n",
      "0                                             0   \n",
      "1                                             0   \n",
      "2                                             0   \n",
      "3                                             0   \n",
      "4                                             0   \n",
      "\n",
      "   neighborhood_West Philadelphia - Philadelphia,PA  \\\n",
      "0                                                 0   \n",
      "1                                                 1   \n",
      "2                                                 0   \n",
      "3                                                 0   \n",
      "4                                                 0   \n",
      "\n",
      "   neighborhood_West Poplar - Philadelphia,PA  \\\n",
      "0                                           0   \n",
      "1                                           0   \n",
      "2                                           0   \n",
      "3                                           0   \n",
      "4                                           0   \n",
      "\n",
      "   neighborhood_Whitman - Philadelphia,PA  \\\n",
      "0                                       0   \n",
      "1                                       0   \n",
      "2                                       0   \n",
      "3                                       0   \n",
      "4                                       0   \n",
      "\n",
      "   neighborhood_Wissahickon - Philadelphia,PA  \\\n",
      "0                                           0   \n",
      "1                                           0   \n",
      "2                                           0   \n",
      "3                                           0   \n",
      "4                                           0   \n",
      "\n",
      "   neighborhood_Wissahickon Hills - Philadelphia,PA  \\\n",
      "0                                                 0   \n",
      "1                                                 0   \n",
      "2                                                 0   \n",
      "3                                                 0   \n",
      "4                                                 0   \n",
      "\n",
      "   neighborhood_Wissinoming - Philadelphia,PA  \\\n",
      "0                                           0   \n",
      "1                                           0   \n",
      "2                                           0   \n",
      "3                                           0   \n",
      "4                                           0   \n",
      "\n",
      "   neighborhood_Wynnefield - Philadelphia,PA  \\\n",
      "0                                          0   \n",
      "1                                          0   \n",
      "2                                          0   \n",
      "3                                          0   \n",
      "4                                          0   \n",
      "\n",
      "   neighborhood_Wynnefield Heights - Philadelphia,PA  neighborhood_nan  \n",
      "0                                                  0                 0  \n",
      "1                                                  0                 0  \n",
      "2                                                  0                 0  \n",
      "3                                                  0                 0  \n",
      "4                                                  0                 0  \n",
      "\n",
      "[5 rows x 172 columns]\n"
     ]
    },
    {
     "ename": "KeyError",
     "evalue": "\"['prop_type' 'address.postal_code' 'address.neighborhood_name'] not found in axis\"",
     "output_type": "error",
     "traceback": [
      "\u001b[1;31m---------------------------------------------------------------------------\u001b[0m",
      "\u001b[1;31mKeyError\u001b[0m                                  Traceback (most recent call last)",
      "\u001b[1;32m<ipython-input-31-809c304dd40c>\u001b[0m in \u001b[0;36m<module>\u001b[1;34m\u001b[0m\n\u001b[0;32m      1\u001b[0m \u001b[0mprint\u001b[0m\u001b[1;33m(\u001b[0m\u001b[0menc_df\u001b[0m\u001b[1;33m.\u001b[0m\u001b[0mhead\u001b[0m\u001b[1;33m(\u001b[0m\u001b[1;33m)\u001b[0m\u001b[1;33m)\u001b[0m\u001b[1;33m\u001b[0m\u001b[1;33m\u001b[0m\u001b[0m\n\u001b[1;32m----> 2\u001b[1;33m \u001b[0menc_df\u001b[0m \u001b[1;33m=\u001b[0m \u001b[0menc_df\u001b[0m\u001b[1;33m.\u001b[0m\u001b[0mdrop\u001b[0m\u001b[1;33m(\u001b[0m\u001b[1;33m[\u001b[0m\u001b[1;34m'prop_type'\u001b[0m\u001b[1;33m,\u001b[0m \u001b[1;34m'address.postal_code'\u001b[0m\u001b[1;33m,\u001b[0m \u001b[1;34m'address.neighborhood_name'\u001b[0m\u001b[1;33m]\u001b[0m\u001b[1;33m,\u001b[0m \u001b[0maxis\u001b[0m\u001b[1;33m=\u001b[0m\u001b[1;36m1\u001b[0m\u001b[1;33m)\u001b[0m\u001b[1;33m\u001b[0m\u001b[1;33m\u001b[0m\u001b[0m\n\u001b[0m\u001b[0;32m      3\u001b[0m \u001b[0mprint\u001b[0m\u001b[1;33m(\u001b[0m\u001b[0menc_df\u001b[0m\u001b[1;33m.\u001b[0m\u001b[0mshape\u001b[0m\u001b[1;33m)\u001b[0m\u001b[1;33m\u001b[0m\u001b[1;33m\u001b[0m\u001b[0m\n",
      "\u001b[1;32m~\\anaconda3\\lib\\site-packages\\pandas\\core\\frame.py\u001b[0m in \u001b[0;36mdrop\u001b[1;34m(self, labels, axis, index, columns, level, inplace, errors)\u001b[0m\n\u001b[0;32m   3995\u001b[0m             \u001b[0mlevel\u001b[0m\u001b[1;33m=\u001b[0m\u001b[0mlevel\u001b[0m\u001b[1;33m,\u001b[0m\u001b[1;33m\u001b[0m\u001b[1;33m\u001b[0m\u001b[0m\n\u001b[0;32m   3996\u001b[0m             \u001b[0minplace\u001b[0m\u001b[1;33m=\u001b[0m\u001b[0minplace\u001b[0m\u001b[1;33m,\u001b[0m\u001b[1;33m\u001b[0m\u001b[1;33m\u001b[0m\u001b[0m\n\u001b[1;32m-> 3997\u001b[1;33m             \u001b[0merrors\u001b[0m\u001b[1;33m=\u001b[0m\u001b[0merrors\u001b[0m\u001b[1;33m,\u001b[0m\u001b[1;33m\u001b[0m\u001b[1;33m\u001b[0m\u001b[0m\n\u001b[0m\u001b[0;32m   3998\u001b[0m         )\n\u001b[0;32m   3999\u001b[0m \u001b[1;33m\u001b[0m\u001b[0m\n",
      "\u001b[1;32m~\\anaconda3\\lib\\site-packages\\pandas\\core\\generic.py\u001b[0m in \u001b[0;36mdrop\u001b[1;34m(self, labels, axis, index, columns, level, inplace, errors)\u001b[0m\n\u001b[0;32m   3934\u001b[0m         \u001b[1;32mfor\u001b[0m \u001b[0maxis\u001b[0m\u001b[1;33m,\u001b[0m \u001b[0mlabels\u001b[0m \u001b[1;32min\u001b[0m \u001b[0maxes\u001b[0m\u001b[1;33m.\u001b[0m\u001b[0mitems\u001b[0m\u001b[1;33m(\u001b[0m\u001b[1;33m)\u001b[0m\u001b[1;33m:\u001b[0m\u001b[1;33m\u001b[0m\u001b[1;33m\u001b[0m\u001b[0m\n\u001b[0;32m   3935\u001b[0m             \u001b[1;32mif\u001b[0m \u001b[0mlabels\u001b[0m \u001b[1;32mis\u001b[0m \u001b[1;32mnot\u001b[0m \u001b[1;32mNone\u001b[0m\u001b[1;33m:\u001b[0m\u001b[1;33m\u001b[0m\u001b[1;33m\u001b[0m\u001b[0m\n\u001b[1;32m-> 3936\u001b[1;33m                 \u001b[0mobj\u001b[0m \u001b[1;33m=\u001b[0m \u001b[0mobj\u001b[0m\u001b[1;33m.\u001b[0m\u001b[0m_drop_axis\u001b[0m\u001b[1;33m(\u001b[0m\u001b[0mlabels\u001b[0m\u001b[1;33m,\u001b[0m \u001b[0maxis\u001b[0m\u001b[1;33m,\u001b[0m \u001b[0mlevel\u001b[0m\u001b[1;33m=\u001b[0m\u001b[0mlevel\u001b[0m\u001b[1;33m,\u001b[0m \u001b[0merrors\u001b[0m\u001b[1;33m=\u001b[0m\u001b[0merrors\u001b[0m\u001b[1;33m)\u001b[0m\u001b[1;33m\u001b[0m\u001b[1;33m\u001b[0m\u001b[0m\n\u001b[0m\u001b[0;32m   3937\u001b[0m \u001b[1;33m\u001b[0m\u001b[0m\n\u001b[0;32m   3938\u001b[0m         \u001b[1;32mif\u001b[0m \u001b[0minplace\u001b[0m\u001b[1;33m:\u001b[0m\u001b[1;33m\u001b[0m\u001b[1;33m\u001b[0m\u001b[0m\n",
      "\u001b[1;32m~\\anaconda3\\lib\\site-packages\\pandas\\core\\generic.py\u001b[0m in \u001b[0;36m_drop_axis\u001b[1;34m(self, labels, axis, level, errors)\u001b[0m\n\u001b[0;32m   3968\u001b[0m                 \u001b[0mnew_axis\u001b[0m \u001b[1;33m=\u001b[0m \u001b[0maxis\u001b[0m\u001b[1;33m.\u001b[0m\u001b[0mdrop\u001b[0m\u001b[1;33m(\u001b[0m\u001b[0mlabels\u001b[0m\u001b[1;33m,\u001b[0m \u001b[0mlevel\u001b[0m\u001b[1;33m=\u001b[0m\u001b[0mlevel\u001b[0m\u001b[1;33m,\u001b[0m \u001b[0merrors\u001b[0m\u001b[1;33m=\u001b[0m\u001b[0merrors\u001b[0m\u001b[1;33m)\u001b[0m\u001b[1;33m\u001b[0m\u001b[1;33m\u001b[0m\u001b[0m\n\u001b[0;32m   3969\u001b[0m             \u001b[1;32melse\u001b[0m\u001b[1;33m:\u001b[0m\u001b[1;33m\u001b[0m\u001b[1;33m\u001b[0m\u001b[0m\n\u001b[1;32m-> 3970\u001b[1;33m                 \u001b[0mnew_axis\u001b[0m \u001b[1;33m=\u001b[0m \u001b[0maxis\u001b[0m\u001b[1;33m.\u001b[0m\u001b[0mdrop\u001b[0m\u001b[1;33m(\u001b[0m\u001b[0mlabels\u001b[0m\u001b[1;33m,\u001b[0m \u001b[0merrors\u001b[0m\u001b[1;33m=\u001b[0m\u001b[0merrors\u001b[0m\u001b[1;33m)\u001b[0m\u001b[1;33m\u001b[0m\u001b[1;33m\u001b[0m\u001b[0m\n\u001b[0m\u001b[0;32m   3971\u001b[0m             \u001b[0mresult\u001b[0m \u001b[1;33m=\u001b[0m \u001b[0mself\u001b[0m\u001b[1;33m.\u001b[0m\u001b[0mreindex\u001b[0m\u001b[1;33m(\u001b[0m\u001b[1;33m**\u001b[0m\u001b[1;33m{\u001b[0m\u001b[0maxis_name\u001b[0m\u001b[1;33m:\u001b[0m \u001b[0mnew_axis\u001b[0m\u001b[1;33m}\u001b[0m\u001b[1;33m)\u001b[0m\u001b[1;33m\u001b[0m\u001b[1;33m\u001b[0m\u001b[0m\n\u001b[0;32m   3972\u001b[0m \u001b[1;33m\u001b[0m\u001b[0m\n",
      "\u001b[1;32m~\\anaconda3\\lib\\site-packages\\pandas\\core\\indexes\\base.py\u001b[0m in \u001b[0;36mdrop\u001b[1;34m(self, labels, errors)\u001b[0m\n\u001b[0;32m   5016\u001b[0m         \u001b[1;32mif\u001b[0m \u001b[0mmask\u001b[0m\u001b[1;33m.\u001b[0m\u001b[0many\u001b[0m\u001b[1;33m(\u001b[0m\u001b[1;33m)\u001b[0m\u001b[1;33m:\u001b[0m\u001b[1;33m\u001b[0m\u001b[1;33m\u001b[0m\u001b[0m\n\u001b[0;32m   5017\u001b[0m             \u001b[1;32mif\u001b[0m \u001b[0merrors\u001b[0m \u001b[1;33m!=\u001b[0m \u001b[1;34m\"ignore\"\u001b[0m\u001b[1;33m:\u001b[0m\u001b[1;33m\u001b[0m\u001b[1;33m\u001b[0m\u001b[0m\n\u001b[1;32m-> 5018\u001b[1;33m                 \u001b[1;32mraise\u001b[0m \u001b[0mKeyError\u001b[0m\u001b[1;33m(\u001b[0m\u001b[1;34mf\"{labels[mask]} not found in axis\"\u001b[0m\u001b[1;33m)\u001b[0m\u001b[1;33m\u001b[0m\u001b[1;33m\u001b[0m\u001b[0m\n\u001b[0m\u001b[0;32m   5019\u001b[0m             \u001b[0mindexer\u001b[0m \u001b[1;33m=\u001b[0m \u001b[0mindexer\u001b[0m\u001b[1;33m[\u001b[0m\u001b[1;33m~\u001b[0m\u001b[0mmask\u001b[0m\u001b[1;33m]\u001b[0m\u001b[1;33m\u001b[0m\u001b[1;33m\u001b[0m\u001b[0m\n\u001b[0;32m   5020\u001b[0m         \u001b[1;32mreturn\u001b[0m \u001b[0mself\u001b[0m\u001b[1;33m.\u001b[0m\u001b[0mdelete\u001b[0m\u001b[1;33m(\u001b[0m\u001b[0mindexer\u001b[0m\u001b[1;33m)\u001b[0m\u001b[1;33m\u001b[0m\u001b[1;33m\u001b[0m\u001b[0m\n",
      "\u001b[1;31mKeyError\u001b[0m: \"['prop_type' 'address.postal_code' 'address.neighborhood_name'] not found in axis\""
     ]
    }
   ],
   "source": [
    "print(enc_df.head())\n",
    "enc_df = enc_df.drop(['prop_type', 'address.postal_code', 'address.neighborhood_name'], axis=1)\n"
   ]
  },
  {
   "cell_type": "code",
   "execution_count": 32,
   "metadata": {},
   "outputs": [
    {
     "name": "stdout",
     "output_type": "stream",
     "text": [
      "(4880, 172)\n"
     ]
    }
   ],
   "source": [
    "print(enc_df.shape)"
   ]
  },
  {
   "cell_type": "code",
   "execution_count": 33,
   "metadata": {},
   "outputs": [],
   "source": [
    "# normalize data\n",
    "enc_df.to_csv('preprocessed.csv')"
   ]
  },
  {
   "cell_type": "code",
   "execution_count": 97,
   "metadata": {},
   "outputs": [],
   "source": [
    "enc_no_neigh_df = pd.concat([merged_left, prop_type_df, zip_df], axis=1)\n",
    "enc_no_neigh_df = enc_no_neigh_df.drop(['prop_type', 'address.postal_code', 'address.neighborhood_name'], axis=1)\n",
    "\n"
   ]
  },
  {
   "cell_type": "code",
   "execution_count": 105,
   "metadata": {},
   "outputs": [],
   "source": [
    "enc_no_zip_df = pd.concat([merged_left, prop_type_df], axis=1)\n",
    "enc_no_zip_df = enc_no_zip_df.drop(['prop_type', 'address.postal_code', 'address.neighborhood_name', 'last_update'], axis=1)"
   ]
  },
  {
   "cell_type": "code",
   "execution_count": 122,
   "metadata": {},
   "outputs": [
    {
     "ename": "KeyError",
     "evalue": "\"['last_update'] not found in axis\"",
     "output_type": "error",
     "traceback": [
      "\u001b[1;31m---------------------------------------------------------------------------\u001b[0m",
      "\u001b[1;31mKeyError\u001b[0m                                  Traceback (most recent call last)",
      "\u001b[1;32m<ipython-input-122-6ddb272be66f>\u001b[0m in \u001b[0;36m<module>\u001b[1;34m\u001b[0m\n\u001b[1;32m----> 1\u001b[1;33m \u001b[0menc_no_neigh_df\u001b[0m \u001b[1;33m=\u001b[0m \u001b[0menc_no_neigh_df\u001b[0m\u001b[1;33m.\u001b[0m\u001b[0mdrop\u001b[0m\u001b[1;33m(\u001b[0m\u001b[1;33m[\u001b[0m\u001b[1;34m'last_update'\u001b[0m\u001b[1;33m]\u001b[0m\u001b[1;33m,\u001b[0m \u001b[0maxis\u001b[0m\u001b[1;33m=\u001b[0m\u001b[1;36m1\u001b[0m\u001b[1;33m)\u001b[0m\u001b[1;33m\u001b[0m\u001b[1;33m\u001b[0m\u001b[0m\n\u001b[0m\u001b[0;32m      2\u001b[0m \u001b[0mprint\u001b[0m\u001b[1;33m(\u001b[0m\u001b[0menc_no_neigh_df\u001b[0m\u001b[1;33m.\u001b[0m\u001b[0mcolumns\u001b[0m\u001b[1;33m)\u001b[0m\u001b[1;33m\u001b[0m\u001b[1;33m\u001b[0m\u001b[0m\n",
      "\u001b[1;32m~\\anaconda3\\lib\\site-packages\\pandas\\core\\frame.py\u001b[0m in \u001b[0;36mdrop\u001b[1;34m(self, labels, axis, index, columns, level, inplace, errors)\u001b[0m\n\u001b[0;32m   3995\u001b[0m             \u001b[0mlevel\u001b[0m\u001b[1;33m=\u001b[0m\u001b[0mlevel\u001b[0m\u001b[1;33m,\u001b[0m\u001b[1;33m\u001b[0m\u001b[1;33m\u001b[0m\u001b[0m\n\u001b[0;32m   3996\u001b[0m             \u001b[0minplace\u001b[0m\u001b[1;33m=\u001b[0m\u001b[0minplace\u001b[0m\u001b[1;33m,\u001b[0m\u001b[1;33m\u001b[0m\u001b[1;33m\u001b[0m\u001b[0m\n\u001b[1;32m-> 3997\u001b[1;33m             \u001b[0merrors\u001b[0m\u001b[1;33m=\u001b[0m\u001b[0merrors\u001b[0m\u001b[1;33m,\u001b[0m\u001b[1;33m\u001b[0m\u001b[1;33m\u001b[0m\u001b[0m\n\u001b[0m\u001b[0;32m   3998\u001b[0m         )\n\u001b[0;32m   3999\u001b[0m \u001b[1;33m\u001b[0m\u001b[0m\n",
      "\u001b[1;32m~\\anaconda3\\lib\\site-packages\\pandas\\core\\generic.py\u001b[0m in \u001b[0;36mdrop\u001b[1;34m(self, labels, axis, index, columns, level, inplace, errors)\u001b[0m\n\u001b[0;32m   3934\u001b[0m         \u001b[1;32mfor\u001b[0m \u001b[0maxis\u001b[0m\u001b[1;33m,\u001b[0m \u001b[0mlabels\u001b[0m \u001b[1;32min\u001b[0m \u001b[0maxes\u001b[0m\u001b[1;33m.\u001b[0m\u001b[0mitems\u001b[0m\u001b[1;33m(\u001b[0m\u001b[1;33m)\u001b[0m\u001b[1;33m:\u001b[0m\u001b[1;33m\u001b[0m\u001b[1;33m\u001b[0m\u001b[0m\n\u001b[0;32m   3935\u001b[0m             \u001b[1;32mif\u001b[0m \u001b[0mlabels\u001b[0m \u001b[1;32mis\u001b[0m \u001b[1;32mnot\u001b[0m \u001b[1;32mNone\u001b[0m\u001b[1;33m:\u001b[0m\u001b[1;33m\u001b[0m\u001b[1;33m\u001b[0m\u001b[0m\n\u001b[1;32m-> 3936\u001b[1;33m                 \u001b[0mobj\u001b[0m \u001b[1;33m=\u001b[0m \u001b[0mobj\u001b[0m\u001b[1;33m.\u001b[0m\u001b[0m_drop_axis\u001b[0m\u001b[1;33m(\u001b[0m\u001b[0mlabels\u001b[0m\u001b[1;33m,\u001b[0m \u001b[0maxis\u001b[0m\u001b[1;33m,\u001b[0m \u001b[0mlevel\u001b[0m\u001b[1;33m=\u001b[0m\u001b[0mlevel\u001b[0m\u001b[1;33m,\u001b[0m \u001b[0merrors\u001b[0m\u001b[1;33m=\u001b[0m\u001b[0merrors\u001b[0m\u001b[1;33m)\u001b[0m\u001b[1;33m\u001b[0m\u001b[1;33m\u001b[0m\u001b[0m\n\u001b[0m\u001b[0;32m   3937\u001b[0m \u001b[1;33m\u001b[0m\u001b[0m\n\u001b[0;32m   3938\u001b[0m         \u001b[1;32mif\u001b[0m \u001b[0minplace\u001b[0m\u001b[1;33m:\u001b[0m\u001b[1;33m\u001b[0m\u001b[1;33m\u001b[0m\u001b[0m\n",
      "\u001b[1;32m~\\anaconda3\\lib\\site-packages\\pandas\\core\\generic.py\u001b[0m in \u001b[0;36m_drop_axis\u001b[1;34m(self, labels, axis, level, errors)\u001b[0m\n\u001b[0;32m   3968\u001b[0m                 \u001b[0mnew_axis\u001b[0m \u001b[1;33m=\u001b[0m \u001b[0maxis\u001b[0m\u001b[1;33m.\u001b[0m\u001b[0mdrop\u001b[0m\u001b[1;33m(\u001b[0m\u001b[0mlabels\u001b[0m\u001b[1;33m,\u001b[0m \u001b[0mlevel\u001b[0m\u001b[1;33m=\u001b[0m\u001b[0mlevel\u001b[0m\u001b[1;33m,\u001b[0m \u001b[0merrors\u001b[0m\u001b[1;33m=\u001b[0m\u001b[0merrors\u001b[0m\u001b[1;33m)\u001b[0m\u001b[1;33m\u001b[0m\u001b[1;33m\u001b[0m\u001b[0m\n\u001b[0;32m   3969\u001b[0m             \u001b[1;32melse\u001b[0m\u001b[1;33m:\u001b[0m\u001b[1;33m\u001b[0m\u001b[1;33m\u001b[0m\u001b[0m\n\u001b[1;32m-> 3970\u001b[1;33m                 \u001b[0mnew_axis\u001b[0m \u001b[1;33m=\u001b[0m \u001b[0maxis\u001b[0m\u001b[1;33m.\u001b[0m\u001b[0mdrop\u001b[0m\u001b[1;33m(\u001b[0m\u001b[0mlabels\u001b[0m\u001b[1;33m,\u001b[0m \u001b[0merrors\u001b[0m\u001b[1;33m=\u001b[0m\u001b[0merrors\u001b[0m\u001b[1;33m)\u001b[0m\u001b[1;33m\u001b[0m\u001b[1;33m\u001b[0m\u001b[0m\n\u001b[0m\u001b[0;32m   3971\u001b[0m             \u001b[0mresult\u001b[0m \u001b[1;33m=\u001b[0m \u001b[0mself\u001b[0m\u001b[1;33m.\u001b[0m\u001b[0mreindex\u001b[0m\u001b[1;33m(\u001b[0m\u001b[1;33m**\u001b[0m\u001b[1;33m{\u001b[0m\u001b[0maxis_name\u001b[0m\u001b[1;33m:\u001b[0m \u001b[0mnew_axis\u001b[0m\u001b[1;33m}\u001b[0m\u001b[1;33m)\u001b[0m\u001b[1;33m\u001b[0m\u001b[1;33m\u001b[0m\u001b[0m\n\u001b[0;32m   3972\u001b[0m \u001b[1;33m\u001b[0m\u001b[0m\n",
      "\u001b[1;32m~\\anaconda3\\lib\\site-packages\\pandas\\core\\indexes\\base.py\u001b[0m in \u001b[0;36mdrop\u001b[1;34m(self, labels, errors)\u001b[0m\n\u001b[0;32m   5016\u001b[0m         \u001b[1;32mif\u001b[0m \u001b[0mmask\u001b[0m\u001b[1;33m.\u001b[0m\u001b[0many\u001b[0m\u001b[1;33m(\u001b[0m\u001b[1;33m)\u001b[0m\u001b[1;33m:\u001b[0m\u001b[1;33m\u001b[0m\u001b[1;33m\u001b[0m\u001b[0m\n\u001b[0;32m   5017\u001b[0m             \u001b[1;32mif\u001b[0m \u001b[0merrors\u001b[0m \u001b[1;33m!=\u001b[0m \u001b[1;34m\"ignore\"\u001b[0m\u001b[1;33m:\u001b[0m\u001b[1;33m\u001b[0m\u001b[1;33m\u001b[0m\u001b[0m\n\u001b[1;32m-> 5018\u001b[1;33m                 \u001b[1;32mraise\u001b[0m \u001b[0mKeyError\u001b[0m\u001b[1;33m(\u001b[0m\u001b[1;34mf\"{labels[mask]} not found in axis\"\u001b[0m\u001b[1;33m)\u001b[0m\u001b[1;33m\u001b[0m\u001b[1;33m\u001b[0m\u001b[0m\n\u001b[0m\u001b[0;32m   5019\u001b[0m             \u001b[0mindexer\u001b[0m \u001b[1;33m=\u001b[0m \u001b[0mindexer\u001b[0m\u001b[1;33m[\u001b[0m\u001b[1;33m~\u001b[0m\u001b[0mmask\u001b[0m\u001b[1;33m]\u001b[0m\u001b[1;33m\u001b[0m\u001b[1;33m\u001b[0m\u001b[0m\n\u001b[0;32m   5020\u001b[0m         \u001b[1;32mreturn\u001b[0m \u001b[0mself\u001b[0m\u001b[1;33m.\u001b[0m\u001b[0mdelete\u001b[0m\u001b[1;33m(\u001b[0m\u001b[0mindexer\u001b[0m\u001b[1;33m)\u001b[0m\u001b[1;33m\u001b[0m\u001b[1;33m\u001b[0m\u001b[0m\n",
      "\u001b[1;31mKeyError\u001b[0m: \"['last_update'] not found in axis\""
     ]
    }
   ],
   "source": [
    "enc_no_neigh_df = enc_no_neigh_df.drop(['last_update'], axis=1)\n"
   ]
  },
  {
   "cell_type": "code",
   "execution_count": 123,
   "metadata": {},
   "outputs": [
    {
     "name": "stdout",
     "output_type": "stream",
     "text": [
      "Index(['Unnamed: 0', 'year_built', 'beds', 'price', 'baths_full', 'baths_half',\n",
      "       'is_new_construction', 'building_size.size', 'garage', 'Zip Code',\n",
      "       'Population', '% Unemployment Rate', 'Avg. Income/H/hold',\n",
      "       'prop_type_commercial', 'prop_type_condo', 'prop_type_government',\n",
      "       'prop_type_single_family', 'zip_19102', 'zip_19103', 'zip_19104',\n",
      "       'zip_19106', 'zip_19107', 'zip_19111', 'zip_19114', 'zip_19115',\n",
      "       'zip_19116', 'zip_19118', 'zip_19119', 'zip_19120', 'zip_19121',\n",
      "       'zip_19122', 'zip_19123', 'zip_19124', 'zip_19125', 'zip_19126',\n",
      "       'zip_19127', 'zip_19128', 'zip_19129', 'zip_19130', 'zip_19131',\n",
      "       'zip_19132', 'zip_19133', 'zip_19134', 'zip_19135', 'zip_19136',\n",
      "       'zip_19137', 'zip_19138', 'zip_19139', 'zip_19140', 'zip_19141',\n",
      "       'zip_19142', 'zip_19143', 'zip_19144', 'zip_19145', 'zip_19146',\n",
      "       'zip_19147', 'zip_19148', 'zip_19149', 'zip_19150', 'zip_19151',\n",
      "       'zip_19152', 'zip_19153', 'zip_19154'],\n",
      "      dtype='object')\n",
      "train_val: 3904, test: 976\n"
     ]
    }
   ],
   "source": [
    "from sklearn.preprocessing import StandardScaler\n",
    "from sklearn.model_selection import train_test_split\n",
    "print(enc_no_neigh_df.columns)\n",
    "# drop date column\n",
    "# enc_df = enc_df.drop(['last_update'], axis=1)\n",
    "# Split the data into two subsets and normalize the features of samples\n",
    "house_fea = enc_no_neigh_df.drop('price', axis=1).values\n",
    "house_res = enc_no_neigh_df['price'].values\n",
    "\n",
    "# Split the dataset into the train_val set and testing set.\n",
    "X_train, X_test, y_train, y_test = train_test_split(house_fea, house_res, \n",
    "                                                            test_size=0.2, \n",
    "                                                            random_state=0)\n",
    "print(\"train_val: {}, test: {}\".format(X_train_val.shape[0], X_test.shape[0]))\n",
    "\n",
    "# Normalize features\n",
    "normalizer = StandardScaler()\n",
    "X_train = normalizer.fit_transform(X_train)\n",
    "X_test = normalizer.transform(X_test)"
   ]
  },
  {
   "cell_type": "code",
   "execution_count": 111,
   "metadata": {},
   "outputs": [
    {
     "name": "stdout",
     "output_type": "stream",
     "text": [
      "bias is 323404.4620901625\n",
      "coefficients  are [  4676.18041159  12136.80823875  31823.29154538  82105.6831041\n",
      "  38048.80350788   2182.69124699  26443.92575324  33817.11569017\n",
      " -10617.12998504 -34849.72022942  -7435.83355757   3463.23780574\n",
      "   1799.46525755 -13933.34475698   2855.66794925  13650.59227563\n",
      "  16379.46081782  53016.46138745  -1007.49353094  36360.73453093\n",
      "  13636.88551142 -15169.23430795 -22088.05313319 -19955.95137866\n",
      " -19642.86640449  28083.40314909  -9575.94744391  -7547.50169925\n",
      "  -7413.13979537  -2090.64722355  16530.59089824 -11002.62577569\n",
      "   7703.26655545 -21172.46832565   1251.52474347  -8089.13752663\n",
      "  -1183.34365945  21631.58652727 -10048.86973463 -10272.2038018\n",
      "  -8191.93731924  -2791.0041678  -18418.71673308 -13867.56276844\n",
      " -10022.03540072 -15443.83619244  -6313.72566708  -8228.51352634\n",
      " -15466.68611368 -11608.00546981   5923.69675947 -16396.16429037\n",
      "   6653.41280928  41263.89661613  40621.61169426  16288.88587877\n",
      "  -8223.60488041 -14404.42040584 -15835.74206077 -17406.91795834\n",
      " -10325.27080097 -12780.28451563]\n",
      "prediction for training set:\n",
      "MAE is: 91066.34143281567\n",
      "MSE is: 23848409303.82211\n",
      "RMSE is: 154429.30195990045\n",
      "R-Squared is: 0.6393919429486821\n"
     ]
    }
   ],
   "source": [
    "from sklearn.linear_model import Ridge\n",
    "from sklearn.metrics import mean_absolute_error,mean_squared_error\n",
    "import numpy as np\n",
    "\n",
    "# Train the ridge regression model lambda = 0.1\n",
    "rr = Ridge(alpha=0.1)\n",
    "\n",
    "rr.fit(X_train, y_train)\n",
    "\n",
    "print(\"bias is \"+str(rr.intercept_))\n",
    "print(\"coefficients  are \"+str(rr.coef_))\n",
    "\n",
    "y_train_pred_rr = rr.predict(X_train)\n",
    "\n",
    "mae_rr = mean_absolute_error(y_train_pred_rr,y_train)\n",
    "mse_rr = mean_squared_error(y_train_pred_rr,y_train)\n",
    "rmse_rr = np.sqrt(mse_rr)\n",
    "\n",
    "print('prediction for training set:')\n",
    "print('MAE is: {}'.format(mae_rr))\n",
    "print('MSE is: {}'.format(mse_rr))\n",
    "print('RMSE is: {}'.format(rmse_rr))\n",
    "print('R-Squared is: {}'.format(rr.score(X_train, y_train)))"
   ]
  },
  {
   "cell_type": "code",
   "execution_count": 112,
   "metadata": {},
   "outputs": [
    {
     "name": "stdout",
     "output_type": "stream",
     "text": [
      "prediction for testing set: Ridge\n",
      "MAE is: 101933.96830312388\n",
      "MSE is: 32515372454.27583\n",
      "RMSE is: 180320.1942497729\n",
      "R-Squared is: 0.6013018271296905\n"
     ]
    },
    {
     "data": {
      "image/png": "[encoded data removed]",
      "text/plain": [
       "<Figure size 432x288 with 1 Axes>"
      ]
     },
     "metadata": {
      "needs_background": "light"
     },
     "output_type": "display_data"
    }
   ],
   "source": [
    "import matplotlib.pyplot as plt\n",
    "\n",
    "# Evaluate the model\n",
    "y_test_pred_rr = rr.predict(X_test)\n",
    "mae_rrp = mean_absolute_error(y_test_pred_rr,y_test)\n",
    "mse_rrp = mean_squared_error(y_test_pred_rr,y_test)\n",
    "rmse_rrp = np.sqrt(mse_rrp)\n",
    "\n",
    "print('prediction for testing set: Ridge')\n",
    "print('MAE is: {}'.format(mae_rrp))\n",
    "print('MSE is: {}'.format(mse_rrp))\n",
    "print('RMSE is: {}'.format(rmse_rrp))\n",
    "print('R-Squared is: {}'.format(rr.score(X_test, y_test)))\n",
    "\n",
    "# Visualize the Ridge Regression model\n",
    "labels = ['House1', 'House2', 'House3', 'House4', 'House5']\n",
    "x = np.arange(len(labels))  # the label locations\n",
    "width = 0.35  # the width of the bars\n",
    "\n",
    "fig_rr, ax_rr = plt.subplots()\n",
    "rects1_rr = ax_rr.bar(x - width/2, y_test[0:5], width, label='ground truth')\n",
    "rects2_rr = ax_rr.bar(x + width/2, y_test_pred_rr[0:5], width, label='prediction')\n",
    "\n",
    "ax_rr.set_ylabel('Price')\n",
    "ax_rr.set_xticks(x)\n",
    "ax_rr.set_xticklabels(labels)\n",
    "ax_rr.legend()\n",
    "\n",
    "plt.show()"
   ]
  },
  {
   "cell_type": "code",
   "execution_count": 120,
   "metadata": {},
   "outputs": [
    {
     "name": "stdout",
     "output_type": "stream",
     "text": [
      "bias is 323404.4620901604\n",
      "coefficients  are [  4676.25414263  12136.87970627  31823.98475824  82107.37305579\n",
      "  38049.47846316   2181.6763407   26443.67211979  33817.84542403\n",
      " -27881.05009628 -67734.0779662   -9503.03624986  -7884.92794192\n",
      "   -952.71189635 -26812.83093454   2292.25825597    986.17354663\n",
      "   8859.34727979  41413.83717125  -3008.14893469  26533.03215347\n",
      "   2709.55362865 -12055.68918883 -27720.42956113 -25638.1800427\n",
      " -23314.82105298  22787.13285669 -13626.88840227  -1749.60961082\n",
      " -13832.82612431 -10876.28777554   4478.27244607  -5336.66537332\n",
      "  -1615.79725356 -26808.86659571  -6782.74483891  -9115.90564244\n",
      "  -8419.89850454  14900.496477    -9008.03829385 -11494.65710391\n",
      " -11269.74515566   2150.84004567 -21364.77985979 -13097.50697379\n",
      " -15304.78307776 -16187.67042318  -5938.72469888  -4513.9116713\n",
      " -15933.59540844 -13725.66833852  16474.19129991 -13198.21827696\n",
      "  10132.50867796  40701.44138495  40937.05964819  22070.13915061\n",
      "  -2397.74265341 -14529.71442839 -15461.83422562 -16221.34304068\n",
      " -12599.77639329  -7090.08638456]\n",
      "prediction for training set:\n",
      "MAE is: 91067.18728176005\n",
      "MSE is: 23848409287.26676\n",
      "RMSE is: 154429.30190629873\n",
      "R-Squared is: 0.6393919431990129\n"
     ]
    },
    {
     "name": "stderr",
     "output_type": "stream",
     "text": [
      "C:\\Users\\hagem\\anaconda3\\lib\\site-packages\\sklearn\\linear_model\\_coordinate_descent.py:476: ConvergenceWarning: Objective did not converge. You might want to increase the number of iterations. Duality gap: 7569984009262.148, tolerance: 25818666028.54964\n",
      "  positive)\n"
     ]
    }
   ],
   "source": [
    "# Train lasso regression model lambda = 0.1\n",
    "lr = Lasso(alpha=0.1)\n",
    "\n",
    "lr.fit(X_train, y_train)\n",
    "\n",
    "print(\"bias is \"+str(lr.intercept_))\n",
    "print(\"coefficients  are \"+str(lr.coef_))\n",
    "\n",
    "y_train_pred_lr = lr.predict(X_train)\n",
    "\n",
    "mae_lr = mean_absolute_error(y_train_pred_lr,y_train)\n",
    "mse_lr = mean_squared_error(y_train_pred_lr,y_train)\n",
    "rmse_lr = np.sqrt(mse_lr)\n",
    "\n",
    "print('prediction for training set:')\n",
    "print('MAE is: {}'.format(mae_lr))\n",
    "print('MSE is: {}'.format(mse_lr))\n",
    "print('RMSE is: {}'.format(rmse_lr))\n",
    "print('R-Squared is: {}'.format(lr.score(X_train, y_train)))"
   ]
  },
  {
   "cell_type": "code",
   "execution_count": 121,
   "metadata": {},
   "outputs": [
    {
     "name": "stdout",
     "output_type": "stream",
     "text": [
      "prediction for testing set: Ridge\n",
      "MAE is: 101934.99049639812\n",
      "MSE is: 32515360858.12359\n",
      "RMSE is: 180320.16209543397\n",
      "R-Squared is: 0.6013019693198105\n"
     ]
    },
    {
     "data": {
      "image/png": "[encoded data removed]",
      "text/plain": [
       "<Figure size 432x288 with 1 Axes>"
      ]
     },
     "metadata": {
      "needs_background": "light"
     },
     "output_type": "display_data"
    }
   ],
   "source": [
    "# Evaluate the model\n",
    "y_test_pred_lr = lr.predict(X_test)\n",
    "mae_lrp = mean_absolute_error(y_test_pred_lr,y_test)\n",
    "mse_lrp = mean_squared_error(y_test_pred_lr,y_test)\n",
    "rmse_lrp = np.sqrt(mse_lrp)\n",
    "\n",
    "print('prediction for testing set: Ridge')\n",
    "print('MAE is: {}'.format(mae_lrp))\n",
    "print('MSE is: {}'.format(mse_lrp))\n",
    "print('RMSE is: {}'.format(rmse_lrp))\n",
    "print('R-Squared is: {}'.format(lr.score(X_test, y_test)))\n",
    "\n",
    "# Visualize the Ridge Regression model\n",
    "labels = ['House1', 'House2', 'House3', 'House4', 'House5']\n",
    "x = np.arange(len(labels))  # the label locations\n",
    "width = 0.35  # the width of the bars\n",
    "\n",
    "fig_rr, ax_lr = plt.subplots()\n",
    "rects1_lr = ax_lr.bar(x - width/2, y_test[0:5], width, label='ground truth')\n",
    "rects2_lr = ax_lr.bar(x + width/2, y_test_pred_rr[0:5], width, label='prediction')\n",
    "\n",
    "ax_lr.set_ylabel('Price')\n",
    "ax_lr.set_xticks(x)\n",
    "ax_lr.set_xticklabels(labels)\n",
    "ax_lr.legend()\n",
    "\n",
    "plt.show()"
   ]
  },
  {
   "cell_type": "code",
   "execution_count": 116,
   "metadata": {},
   "outputs": [
    {
     "name": "stdout",
     "output_type": "stream",
     "text": [
      "[[3547  519 1150 ... 2776 2723 1675]\n",
      " [2468 2958 3026 ... 2640  179 2801]\n",
      " [1588 2460 1456 ... 1348 2139 1443]\n",
      " ...\n",
      " [1523 3225  106 ... 3510 3741 3724]\n",
      " [ 584 1525 1481 ... 1700 1600 1332]\n",
      " [2215 2500 3775 ... 1025 3668  900]]\n",
      "reg_coeff: 10000.0, mae: 96474.009\n",
      "reg_coeff: 1000.0, mae: 96428.423\n",
      "reg_coeff: 100.0, mae: 95985.337\n",
      "reg_coeff: 10.0, mae: 92753.512\n",
      "reg_coeff: 1.0, mae: 95814.491\n",
      "reg_coeff: 0.1, mae: 139559.135\n",
      "reg_coeff: 0.01, mae: 157624.341\n",
      "reg_coeff: 0.001, mae: 159940.360\n",
      "prediction for testing set: Ridge\n",
      "MAE is: 98392.81933654436\n",
      "MSE is: 32772188364.857727\n",
      "RMSE is: 181030.90444688644\n",
      "R-Squared is: 0.5981527924859381\n"
     ]
    },
    {
     "data": {
      "image/png": "[encoded data removed]",
      "text/plain": [
       "<Figure size 432x288 with 1 Axes>"
      ]
     },
     "metadata": {
      "needs_background": "light"
     },
     "output_type": "display_data"
    },
    {
     "data": {
      "text/plain": [
       "Ridge(alpha=0.1, copy_X=True, fit_intercept=True, max_iter=None, normalize=True,\n",
       "      random_state=None, solver='auto', tol=0.001)"
      ]
     },
     "execution_count": 116,
     "metadata": {},
     "output_type": "execute_result"
    }
   ],
   "source": [
    "from sklearn.metrics import precision_score\n",
    "from random import shuffle\n",
    "import random\n",
    "# Increase model performance by using 8-fold cross validation with Ridge Regression\n",
    "def train(X_train_val, y_train_val):\n",
    "    # Use the 10-fold cross-validation to select the hyperparameter lambda.\n",
    "    folds = 8\n",
    "\n",
    "    # get the number of samples in the training and validation set\n",
    "    num_train_val = X_train_val.shape[0] \n",
    "\n",
    "    # shuffle the index of samples in the train_val set\n",
    "    index_of_samples = np.arange(num_train_val) \n",
    "    shuffle(index_of_samples)\n",
    "\n",
    "    # split the index of the train_valid set into 10 folds\n",
    "    index_of_folds = index_of_samples.reshape(folds, -1)\n",
    "    print(index_of_folds)\n",
    "\n",
    "    regularization_coefficient = [ 0.0001, 0.001, 0.01, 0.1, 1, 10, 100, 1000]\n",
    "    best_acc = 0\n",
    "    best_reg = 0\n",
    "    best_MAE = 10000000000000000\n",
    "    for reg in regularization_coefficient:\n",
    "        sum_acc = 0\n",
    "        sum_mae = 0\n",
    "        for fold in range(folds):\n",
    "            index_of_folds_temp = index_of_folds.copy()\n",
    "\n",
    "            valid_index = index_of_folds_temp[fold,:].reshape(-1) #get the index of the validation set\n",
    "            train_index = np.delete(index_of_folds_temp, fold, 0).reshape(-1) #get the index of the training set\n",
    "\n",
    "            # training set\n",
    "            X_train = X_train_val[train_index]\n",
    "            y_train = y_train_val[train_index]\n",
    "\n",
    "            # validation set\n",
    "            X_valid = X_train_val[valid_index]\n",
    "            y_valid = y_train_val[valid_index]\n",
    "\n",
    "            # build the model with different hyperparameters\n",
    "            rr = Ridge(normalize=True, alpha=reg)\n",
    "\n",
    "            #train the model with the training set\n",
    "            rr.fit(X_train, y_train)\n",
    "\n",
    "            y_valid_pred_rr = rr.predict(X_valid)\n",
    "            acc = rr.score(X_valid, y_valid)\n",
    "            mae = mean_absolute_error(y_valid_pred_rr, y_valid)\n",
    "            sum_acc += acc\n",
    "            sum_mae += mae\n",
    "        cur_acc = sum_acc / folds\n",
    "        cur_MAE = sum_mae / folds\n",
    "        print(\"reg_coeff: {}, mae: {:.3f}\".format(1.0/reg, cur_MAE))\n",
    "\n",
    "        # store the best hyperparameter\n",
    "        if cur_MAE < best_MAE:\n",
    "            best_acc = cur_acc\n",
    "            best_MAE = cur_MAE\n",
    "            best_reg = reg\n",
    "    return best_reg\n",
    "        \n",
    "    \n",
    "def test(X_train, y_train, X_test, y_test, coeff):\n",
    "    rr = Ridge(normalize=True, alpha=coeff)\n",
    "\n",
    "    rr.fit(X_train, y_train)\n",
    "    y_test_pred_rr = rr.predict(X_test)\n",
    "    mae_rrp = mean_absolute_error(y_test_pred_rr,y_test)\n",
    "    mse_rrp = mean_squared_error(y_test_pred_rr,y_test)\n",
    "    rmse_rrp = np.sqrt(mse_rrp)\n",
    "\n",
    "    print('prediction for testing set: Ridge')\n",
    "    print('MAE is: {}'.format(mae_rrp))\n",
    "    print('MSE is: {}'.format(mse_rrp))\n",
    "    print('RMSE is: {}'.format(rmse_rrp))\n",
    "    print('R-Squared is: {}'.format(rr.score(X_test, y_test)))\n",
    "\n",
    "    # Visualize the Ridge Regression model\n",
    "    labels = ['House1', 'House2', 'House3', 'House4', 'House5']\n",
    "    x = np.arange(len(labels))  # the label locations\n",
    "    width = 0.35  # the width of the bars\n",
    "\n",
    "    fig_rr, ax_rr = plt.subplots()\n",
    "    rects1_rr = ax_rr.bar(x - width/2, y_test[0:5], width, label='ground truth')\n",
    "    rects2_rr = ax_rr.bar(x + width/2, y_test_pred_rr[0:5], width, label='prediction')\n",
    "\n",
    "    ax_rr.set_ylabel('Price')\n",
    "    ax_rr.set_xticks(x)\n",
    "    ax_rr.set_xticklabels(labels)\n",
    "    ax_rr.legend()\n",
    "\n",
    "    plt.show()\n",
    "    return rr\n",
    "    \n",
    "def run_ridge(X_train, y_train, X_test, y_test):\n",
    "    coeff = train(X_train, y_train)\n",
    "    rr = test(X_train, y_train, X_test, y_test, coeff)\n",
    "    return rr\n",
    "run_ridge(X_train, y_train, X_test, y_test)"
   ]
  },
  {
   "cell_type": "code",
   "execution_count": 117,
   "metadata": {},
   "outputs": [
    {
     "name": "stdout",
     "output_type": "stream",
     "text": [
      "62\n"
     ]
    }
   ],
   "source": [
    "# Ideas to increase accuracy: w/ neighborhoods OHE: .64, w/o neighborhoods: .71 (108 neighborhood features)\n",
    "# Try lasso regression\n",
    "# Play around with the features I include/encoding methods\n",
    "print(len(rr.coef_))\n"
   ]
  },
  {
   "cell_type": "code",
   "execution_count": 119,
   "metadata": {},
   "outputs": [
    {
     "name": "stdout",
     "output_type": "stream",
     "text": [
      "[[ 566 3099 3205 ...  710 1748 1952]\n",
      " [2588 2746  988 ... 3249  301 1832]\n",
      " [ 755 3343 1639 ... 1345 3768 3748]\n",
      " ...\n",
      " [3255 3686 2321 ... 2635  593 1969]\n",
      " [ 149 1035 3865 ... 1858 3322  351]\n",
      " [2323 3872 2300 ...  337  160 3506]]\n"
     ]
    },
    {
     "name": "stderr",
     "output_type": "stream",
     "text": [
      "C:\\Users\\hagem\\anaconda3\\lib\\site-packages\\sklearn\\linear_model\\_coordinate_descent.py:476: ConvergenceWarning: Objective did not converge. You might want to increase the number of iterations. Duality gap: 6924700266255.266, tolerance: 23352847709.624367\n",
      "  positive)\n",
      "C:\\Users\\hagem\\anaconda3\\lib\\site-packages\\sklearn\\linear_model\\_coordinate_descent.py:476: ConvergenceWarning: Objective did not converge. You might want to increase the number of iterations. Duality gap: 6658116508278.8125, tolerance: 22215476446.166664\n",
      "  positive)\n",
      "C:\\Users\\hagem\\anaconda3\\lib\\site-packages\\sklearn\\linear_model\\_coordinate_descent.py:476: ConvergenceWarning: Objective did not converge. You might want to increase the number of iterations. Duality gap: 6827272384888.336, tolerance: 22745790339.501945\n",
      "  positive)\n",
      "C:\\Users\\hagem\\anaconda3\\lib\\site-packages\\sklearn\\linear_model\\_coordinate_descent.py:476: ConvergenceWarning: Objective did not converge. You might want to increase the number of iterations. Duality gap: 5610021010153.922, tolerance: 20534715034.267887\n",
      "  positive)\n",
      "C:\\Users\\hagem\\anaconda3\\lib\\site-packages\\sklearn\\linear_model\\_coordinate_descent.py:476: ConvergenceWarning: Objective did not converge. You might want to increase the number of iterations. Duality gap: 6251976051015.766, tolerance: 22872584517.420708\n",
      "  positive)\n",
      "C:\\Users\\hagem\\anaconda3\\lib\\site-packages\\sklearn\\linear_model\\_coordinate_descent.py:476: ConvergenceWarning: Objective did not converge. You might want to increase the number of iterations. Duality gap: 6616734812141.773, tolerance: 22496533693.703953\n",
      "  positive)\n",
      "C:\\Users\\hagem\\anaconda3\\lib\\site-packages\\sklearn\\linear_model\\_coordinate_descent.py:476: ConvergenceWarning: Objective did not converge. You might want to increase the number of iterations. Duality gap: 6853912339626.141, tolerance: 23099219906.214573\n",
      "  positive)\n",
      "C:\\Users\\hagem\\anaconda3\\lib\\site-packages\\sklearn\\linear_model\\_coordinate_descent.py:476: ConvergenceWarning: Objective did not converge. You might want to increase the number of iterations. Duality gap: 6689697492962.414, tolerance: 23407282606.27594\n",
      "  positive)\n",
      "C:\\Users\\hagem\\anaconda3\\lib\\site-packages\\sklearn\\linear_model\\_coordinate_descent.py:476: ConvergenceWarning: Objective did not converge. You might want to increase the number of iterations. Duality gap: 6924785949130.719, tolerance: 23352847709.624367\n",
      "  positive)\n"
     ]
    },
    {
     "name": "stdout",
     "output_type": "stream",
     "text": [
      "reg_coeff: 10000.0, mae: 94816.466\n"
     ]
    },
    {
     "name": "stderr",
     "output_type": "stream",
     "text": [
      "C:\\Users\\hagem\\anaconda3\\lib\\site-packages\\sklearn\\linear_model\\_coordinate_descent.py:476: ConvergenceWarning: Objective did not converge. You might want to increase the number of iterations. Duality gap: 6658199715046.898, tolerance: 22215476446.166664\n",
      "  positive)\n",
      "C:\\Users\\hagem\\anaconda3\\lib\\site-packages\\sklearn\\linear_model\\_coordinate_descent.py:476: ConvergenceWarning: Objective did not converge. You might want to increase the number of iterations. Duality gap: 6827356227753.625, tolerance: 22745790339.501945\n",
      "  positive)\n",
      "C:\\Users\\hagem\\anaconda3\\lib\\site-packages\\sklearn\\linear_model\\_coordinate_descent.py:476: ConvergenceWarning: Objective did not converge. You might want to increase the number of iterations. Duality gap: 5610102650595.32, tolerance: 20534715034.267887\n",
      "  positive)\n",
      "C:\\Users\\hagem\\anaconda3\\lib\\site-packages\\sklearn\\linear_model\\_coordinate_descent.py:476: ConvergenceWarning: Objective did not converge. You might want to increase the number of iterations. Duality gap: 6252057494861.797, tolerance: 22872584517.420708\n",
      "  positive)\n",
      "C:\\Users\\hagem\\anaconda3\\lib\\site-packages\\sklearn\\linear_model\\_coordinate_descent.py:476: ConvergenceWarning: Objective did not converge. You might want to increase the number of iterations. Duality gap: 6616819222509.914, tolerance: 22496533693.703953\n",
      "  positive)\n",
      "C:\\Users\\hagem\\anaconda3\\lib\\site-packages\\sklearn\\linear_model\\_coordinate_descent.py:476: ConvergenceWarning: Objective did not converge. You might want to increase the number of iterations. Duality gap: 6853995967920.859, tolerance: 23099219906.214573\n",
      "  positive)\n",
      "C:\\Users\\hagem\\anaconda3\\lib\\site-packages\\sklearn\\linear_model\\_coordinate_descent.py:476: ConvergenceWarning: Objective did not converge. You might want to increase the number of iterations. Duality gap: 6689782650727.883, tolerance: 23407282606.27594\n",
      "  positive)\n"
     ]
    },
    {
     "name": "stdout",
     "output_type": "stream",
     "text": [
      "reg_coeff: 1000.0, mae: 94816.404\n"
     ]
    },
    {
     "name": "stderr",
     "output_type": "stream",
     "text": [
      "C:\\Users\\hagem\\anaconda3\\lib\\site-packages\\sklearn\\linear_model\\_coordinate_descent.py:476: ConvergenceWarning: Objective did not converge. You might want to increase the number of iterations. Duality gap: 6925630661331.492, tolerance: 23352847709.624367\n",
      "  positive)\n",
      "C:\\Users\\hagem\\anaconda3\\lib\\site-packages\\sklearn\\linear_model\\_coordinate_descent.py:476: ConvergenceWarning: Objective did not converge. You might want to increase the number of iterations. Duality gap: 6659019574016.609, tolerance: 22215476446.166664\n",
      "  positive)\n",
      "C:\\Users\\hagem\\anaconda3\\lib\\site-packages\\sklearn\\linear_model\\_coordinate_descent.py:476: ConvergenceWarning: Objective did not converge. You might want to increase the number of iterations. Duality gap: 6828182137482.469, tolerance: 22745790339.501945\n",
      "  positive)\n",
      "C:\\Users\\hagem\\anaconda3\\lib\\site-packages\\sklearn\\linear_model\\_coordinate_descent.py:476: ConvergenceWarning: Objective did not converge. You might want to increase the number of iterations. Duality gap: 5610907185724.203, tolerance: 20534715034.267887\n",
      "  positive)\n",
      "C:\\Users\\hagem\\anaconda3\\lib\\site-packages\\sklearn\\linear_model\\_coordinate_descent.py:476: ConvergenceWarning: Objective did not converge. You might want to increase the number of iterations. Duality gap: 5487907035401.406, tolerance: 22872584517.420708\n",
      "  positive)\n",
      "C:\\Users\\hagem\\anaconda3\\lib\\site-packages\\sklearn\\linear_model\\_coordinate_descent.py:476: ConvergenceWarning: Objective did not converge. You might want to increase the number of iterations. Duality gap: 6617651026121.68, tolerance: 22496533693.703953\n",
      "  positive)\n",
      "C:\\Users\\hagem\\anaconda3\\lib\\site-packages\\sklearn\\linear_model\\_coordinate_descent.py:476: ConvergenceWarning: Objective did not converge. You might want to increase the number of iterations. Duality gap: 6286430716025.883, tolerance: 23099219906.214573\n",
      "  positive)\n",
      "C:\\Users\\hagem\\anaconda3\\lib\\site-packages\\sklearn\\linear_model\\_coordinate_descent.py:476: ConvergenceWarning: Objective did not converge. You might want to increase the number of iterations. Duality gap: 6690622016590.555, tolerance: 23407282606.27594\n",
      "  positive)\n"
     ]
    },
    {
     "name": "stdout",
     "output_type": "stream",
     "text": [
      "reg_coeff: 100.0, mae: 94815.761\n"
     ]
    },
    {
     "name": "stderr",
     "output_type": "stream",
     "text": [
      "C:\\Users\\hagem\\anaconda3\\lib\\site-packages\\sklearn\\linear_model\\_coordinate_descent.py:476: ConvergenceWarning: Objective did not converge. You might want to increase the number of iterations. Duality gap: 4041946386033.7734, tolerance: 23352847709.624367\n",
      "  positive)\n",
      "C:\\Users\\hagem\\anaconda3\\lib\\site-packages\\sklearn\\linear_model\\_coordinate_descent.py:476: ConvergenceWarning: Objective did not converge. You might want to increase the number of iterations. Duality gap: 3877074763868.625, tolerance: 22215476446.166664\n",
      "  positive)\n",
      "C:\\Users\\hagem\\anaconda3\\lib\\site-packages\\sklearn\\linear_model\\_coordinate_descent.py:476: ConvergenceWarning: Objective did not converge. You might want to increase the number of iterations. Duality gap: 3984001517799.5156, tolerance: 22745790339.501945\n",
      "  positive)\n",
      "C:\\Users\\hagem\\anaconda3\\lib\\site-packages\\sklearn\\linear_model\\_coordinate_descent.py:476: ConvergenceWarning: Objective did not converge. You might want to increase the number of iterations. Duality gap: 3855901030150.539, tolerance: 20534715034.267887\n",
      "  positive)\n",
      "C:\\Users\\hagem\\anaconda3\\lib\\site-packages\\sklearn\\linear_model\\_coordinate_descent.py:476: ConvergenceWarning: Objective did not converge. You might want to increase the number of iterations. Duality gap: 3002512938506.3594, tolerance: 22872584517.420708\n",
      "  positive)\n",
      "C:\\Users\\hagem\\anaconda3\\lib\\site-packages\\sklearn\\linear_model\\_coordinate_descent.py:476: ConvergenceWarning: Objective did not converge. You might want to increase the number of iterations. Duality gap: 3614697491160.0156, tolerance: 22496533693.703953\n",
      "  positive)\n",
      "C:\\Users\\hagem\\anaconda3\\lib\\site-packages\\sklearn\\linear_model\\_coordinate_descent.py:476: ConvergenceWarning: Objective did not converge. You might want to increase the number of iterations. Duality gap: 4444858678935.461, tolerance: 23099219906.214573\n",
      "  positive)\n",
      "C:\\Users\\hagem\\anaconda3\\lib\\site-packages\\sklearn\\linear_model\\_coordinate_descent.py:476: ConvergenceWarning: Objective did not converge. You might want to increase the number of iterations. Duality gap: 3921840228760.617, tolerance: 23407282606.27594\n",
      "  positive)\n"
     ]
    },
    {
     "name": "stdout",
     "output_type": "stream",
     "text": [
      "reg_coeff: 10.0, mae: 94809.378\n"
     ]
    },
    {
     "name": "stderr",
     "output_type": "stream",
     "text": [
      "C:\\Users\\hagem\\anaconda3\\lib\\site-packages\\sklearn\\linear_model\\_coordinate_descent.py:476: ConvergenceWarning: Objective did not converge. You might want to increase the number of iterations. Duality gap: 83280482352.92188, tolerance: 23352847709.624367\n",
      "  positive)\n",
      "C:\\Users\\hagem\\anaconda3\\lib\\site-packages\\sklearn\\linear_model\\_coordinate_descent.py:476: ConvergenceWarning: Objective did not converge. You might want to increase the number of iterations. Duality gap: 85028994548.17188, tolerance: 22215476446.166664\n",
      "  positive)\n",
      "C:\\Users\\hagem\\anaconda3\\lib\\site-packages\\sklearn\\linear_model\\_coordinate_descent.py:476: ConvergenceWarning: Objective did not converge. You might want to increase the number of iterations. Duality gap: 34372241942.625, tolerance: 22745790339.501945\n",
      "  positive)\n",
      "C:\\Users\\hagem\\anaconda3\\lib\\site-packages\\sklearn\\linear_model\\_coordinate_descent.py:476: ConvergenceWarning: Objective did not converge. You might want to increase the number of iterations. Duality gap: 101861696829.22656, tolerance: 20534715034.267887\n",
      "  positive)\n",
      "C:\\Users\\hagem\\anaconda3\\lib\\site-packages\\sklearn\\linear_model\\_coordinate_descent.py:476: ConvergenceWarning: Objective did not converge. You might want to increase the number of iterations. Duality gap: 97471653351.75, tolerance: 22496533693.703953\n",
      "  positive)\n",
      "C:\\Users\\hagem\\anaconda3\\lib\\site-packages\\sklearn\\linear_model\\_coordinate_descent.py:476: ConvergenceWarning: Objective did not converge. You might want to increase the number of iterations. Duality gap: 44650207765.40625, tolerance: 23099219906.214573\n",
      "  positive)\n",
      "C:\\Users\\hagem\\anaconda3\\lib\\site-packages\\sklearn\\linear_model\\_coordinate_descent.py:476: ConvergenceWarning: Objective did not converge. You might want to increase the number of iterations. Duality gap: 39282129644.296875, tolerance: 23407282606.27594\n",
      "  positive)\n"
     ]
    },
    {
     "name": "stdout",
     "output_type": "stream",
     "text": [
      "reg_coeff: 1.0, mae: 94756.251\n",
      "reg_coeff: 0.1, mae: 94322.919\n",
      "reg_coeff: 0.01, mae: 96592.202\n",
      "reg_coeff: 0.001, mae: 129431.191\n",
      "prediction for testing set: Lasso\n",
      "MAE is: 101933.96830312388\n",
      "MSE is: 32515372454.27583\n",
      "RMSE is: 180320.1942497729\n",
      "R-Squared is: 0.6016969533413697\n"
     ]
    },
    {
     "data": {
      "image/png": "[encoded data removed]",
      "text/plain": [
       "<Figure size 432x288 with 1 Axes>"
      ]
     },
     "metadata": {
      "needs_background": "light"
     },
     "output_type": "display_data"
    },
    {
     "data": {
      "text/plain": [
       "Lasso(alpha=10, copy_X=True, fit_intercept=True, max_iter=1000, normalize=True,\n",
       "      positive=False, precompute=False, random_state=None, selection='cyclic',\n",
       "      tol=0.0001, warm_start=False)"
      ]
     },
     "execution_count": 119,
     "metadata": {},
     "output_type": "execute_result"
    }
   ],
   "source": [
    "def train_lasso(X_train_val, y_train_val):\n",
    "    # Use the 10-fold cross-validation to select the hyperparameter lambda.\n",
    "    folds = 8\n",
    "\n",
    "    # get the number of samples in the training and validation set\n",
    "    num_train_val = X_train_val.shape[0] \n",
    "\n",
    "    # shuffle the index of samples in the train_val set\n",
    "    index_of_samples = np.arange(num_train_val) \n",
    "    shuffle(index_of_samples)\n",
    "\n",
    "    # split the index of the train_valid set into 10 folds\n",
    "    index_of_folds = index_of_samples.reshape(folds, -1)\n",
    "    print(index_of_folds)\n",
    "\n",
    "    regularization_coefficient = [ 0.0001, 0.001, 0.01, 0.1, 1, 10, 100, 1000]\n",
    "    best_acc = 0\n",
    "    best_reg = 0\n",
    "    best_MAE = 10000000000000000\n",
    "    for reg in regularization_coefficient:\n",
    "        sum_acc = 0\n",
    "        sum_mae = 0\n",
    "        for fold in range(folds):\n",
    "            index_of_folds_temp = index_of_folds.copy()\n",
    "\n",
    "            valid_index = index_of_folds_temp[fold,:].reshape(-1) #get the index of the validation set\n",
    "            train_index = np.delete(index_of_folds_temp, fold, 0).reshape(-1) #get the index of the training set\n",
    "\n",
    "            # training set\n",
    "            X_train = X_train_val[train_index]\n",
    "            y_train = y_train_val[train_index]\n",
    "\n",
    "            # validation set\n",
    "            X_valid = X_train_val[valid_index]\n",
    "            y_valid = y_train_val[valid_index]\n",
    "\n",
    "            # build the model with different hyperparameters\n",
    "            lr = Lasso(normalize=True, alpha=reg)\n",
    "\n",
    "            #train the model with the training set\n",
    "            lr.fit(X_train, y_train)\n",
    "\n",
    "            y_valid_pred_rr = lr.predict(X_valid)\n",
    "            acc = lr.score(X_valid, y_valid)\n",
    "            mae = mean_absolute_error(y_valid_pred_rr, y_valid)\n",
    "            sum_acc += acc\n",
    "            sum_mae += mae\n",
    "        cur_acc = sum_acc / folds\n",
    "        cur_MAE = sum_mae / folds\n",
    "        print(\"reg_coeff: {}, mae: {:.3f}\".format(1.0/reg, cur_MAE))\n",
    "\n",
    "        # store the best hyperparameter\n",
    "        if cur_MAE < best_MAE:\n",
    "            best_acc = cur_acc\n",
    "            best_MAE = cur_MAE\n",
    "            best_reg = reg\n",
    "    return best_reg\n",
    "        \n",
    "    \n",
    "def test_lasso(X_train, y_train, X_test, y_test, coeff):\n",
    "    lr = Lasso(normalize=True, alpha=coeff)\n",
    "\n",
    "    lr.fit(X_train, y_train)\n",
    "    y_test_pred_rr = rr.predict(X_test)\n",
    "    mae_rrp = mean_absolute_error(y_test_pred_rr,y_test)\n",
    "    mse_rrp = mean_squared_error(y_test_pred_rr,y_test)\n",
    "    rmse_rrp = np.sqrt(mse_rrp)\n",
    "\n",
    "    print('prediction for testing set: Lasso')\n",
    "    print('MAE is: {}'.format(mae_rrp))\n",
    "    print('MSE is: {}'.format(mse_rrp))\n",
    "    print('RMSE is: {}'.format(rmse_rrp))\n",
    "    print('R-Squared is: {}'.format(lr.score(X_test, y_test)))\n",
    "\n",
    "    # Visualize the Ridge Regression model\n",
    "    labels = ['House1', 'House2', 'House3', 'House4', 'House5']\n",
    "    x = np.arange(len(labels))  # the label locations\n",
    "    width = 0.35  # the width of the bars\n",
    "\n",
    "    fig_rr, ax_rr = plt.subplots()\n",
    "    rects1_rr = ax_rr.bar(x - width/2, y_test[0:5], width, label='ground truth')\n",
    "    rects2_rr = ax_rr.bar(x + width/2, y_test_pred_rr[0:5], width, label='prediction')\n",
    "\n",
    "    ax_rr.set_ylabel('Price')\n",
    "    ax_rr.set_xticks(x)\n",
    "    ax_rr.set_xticklabels(labels)\n",
    "    ax_rr.legend()\n",
    "\n",
    "    plt.show()\n",
    "    return lr\n",
    "def run_lasso(X_train, y_train, X_test, y_test):\n",
    "    coeff = train_lasso(X_train, y_train)\n",
    "    lr = test_lasso(X_train, y_train, X_test, y_test, coeff)\n",
    "    return lr\n",
    "run_lasso(X_train, y_train, X_test, y_test)\n"
   ]
  },
  {
   "cell_type": "code",
   "execution_count": null,
   "metadata": {},
   "outputs": [],
   "source": []
  }
 ],
 "metadata": {
  "kernelspec": {
   "display_name": "Python 3",
   "language": "python",
   "name": "python3"
  },
  "language_info": {
   "codemirror_mode": {
    "name": "ipython",
    "version": 3
   },
   "file_extension": ".py",
   "mimetype": "text/x-python",
   "name": "python",
   "nbconvert_exporter": "python",
   "pygments_lexer": "ipython3",
   "version": "3.7.6"
  }
 },
 "nbformat": 4,
 "nbformat_minor": 4
}
